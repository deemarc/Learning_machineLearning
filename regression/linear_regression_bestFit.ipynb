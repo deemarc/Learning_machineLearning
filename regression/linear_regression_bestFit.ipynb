{
 "cells": [
  {
   "cell_type": "markdown",
   "metadata": {},
   "source": [
    "# Best Fit\n",
    "\n",
    "here we try to create simple linear regression from scratch"
   ]
  },
  {
   "cell_type": "code",
   "execution_count": 1,
   "metadata": {},
   "outputs": [],
   "source": [
    "from statistics import mean\n",
    "import numpy as np\n",
    "import matplotlib.pyplot as plt\n",
    "from matplotlib import style\n",
    "style.use('ggplot')"
   ]
  },
  {
   "cell_type": "code",
   "execution_count": 2,
   "metadata": {},
   "outputs": [
    {
     "data": {
      "image/png": "[encoded data removed]",
      "text/plain": [
       "<matplotlib.figure.Figure at 0x2ea834b6400>"
      ]
     },
     "metadata": {},
     "output_type": "display_data"
    }
   ],
   "source": [
    "# some randome value to be use as out x and y\n",
    "xs = [1,2,3,4,5]\n",
    "ys = [5,4,6,5,6]\n",
    "# and let's see how our data looks like\n",
    "plt.scatter(xs,ys)\n",
    "plt.show()"
   ]
  },
  {
   "cell_type": "code",
   "execution_count": 3,
   "metadata": {},
   "outputs": [],
   "source": [
    "# normally we will deal with our data in numpy array where there are array operation suitable for machime learning\n",
    "# something like matrix multiplication an so on\n",
    "\n",
    "# so, let's convert it into numpy array\n",
    "xs_arr = np.array(xs, dtype=np.float64)\n",
    "ys_arr = np.array(ys, dtype=np.float64)"
   ]
  },
  {
   "cell_type": "code",
   "execution_count": 4,
   "metadata": {},
   "outputs": [
    {
     "data": {
      "text/plain": [
       "numpy.ndarray"
      ]
     },
     "execution_count": 4,
     "metadata": {},
     "output_type": "execute_result"
    }
   ],
   "source": [
    "type(xs_arr)"
   ]
  },
  {
   "cell_type": "code",
   "execution_count": 5,
   "metadata": {},
   "outputs": [],
   "source": [
    "def best_fit_slope_intercept(xs,ys):\n",
    "    m = ( ((mean(xs) * mean(ys)) - mean(xs*ys)) /\n",
    "         (mean(xs)**2 - mean(xs**2)) )\n",
    "    b = mean(ys)-m*mean(xs)\n",
    "    return m, b"
   ]
  },
  {
   "cell_type": "code",
   "execution_count": 6,
   "metadata": {},
   "outputs": [
    {
     "name": "stdout",
     "output_type": "stream",
     "text": [
      "0.3 4.3\n"
     ]
    }
   ],
   "source": [
    "m,b = best_fit_slope_intercept(xs_arr, ys_arr)\n",
    "print(m,b)"
   ]
  },
  {
   "cell_type": "code",
   "execution_count": 7,
   "metadata": {},
   "outputs": [
    {
     "data": {
      "image/png": "[encoded data removed]",
      "text/plain": [
       "<matplotlib.figure.Figure at 0x2ea83840fd0>"
      ]
     },
     "metadata": {},
     "output_type": "display_data"
    }
   ],
   "source": [
    "regression_line = [m*x+b for x in xs_arr]\n",
    "plt.scatter(xs_arr,ys_arr)\n",
    "plt.plot(xs_arr,regression_line)\n",
    "plt.show()"
   ]
  },
  {
   "cell_type": "code",
   "execution_count": 8,
   "metadata": {},
   "outputs": [
    {
     "name": "stdout",
     "output_type": "stream",
     "text": [
      "6.4\n"
     ]
    }
   ],
   "source": [
    "# let's try to make some prediction\n",
    "# y = mx + b\n",
    "predict_x = 7\n",
    "predict_y = (m*predict_x)+b\n",
    "print(predict_y)"
   ]
  },
  {
   "cell_type": "code",
   "execution_count": 9,
   "metadata": {
    "scrolled": true
   },
   "outputs": [
    {
     "data": {
      "image/png": "[encoded data removed]",
      "text/plain": [
       "<matplotlib.figure.Figure at 0x2ea837fd470>"
      ]
     },
     "metadata": {},
     "output_type": "display_data"
    }
   ],
   "source": [
    "predict_x = 7\n",
    "predict_y = (m*predict_x)+b\n",
    "\n",
    "plt.scatter(xs,ys,color='#003F72',label='data')\n",
    "plt.scatter(predict_x, predict_y, color='gr', label = 'predict')\n",
    "plt.plot(xs, regression_line, label='regression line')\n",
    "plt.legend(loc=4)\n",
    "plt.show()"
   ]
  },
  {
   "cell_type": "markdown",
   "metadata": {},
   "source": [
    "## R Squared and Coefficient of Determination Theory\n",
    "\n",
    "![alt text](./img/coefficient-of-determination-r-squared.png)\n",
    "\n",
    "so now after we finding this \"best fit line\", how can be sure it's actually now it is the best line?\n",
    "well we need to come up with the calculation on how accurate our line is.\n",
    "the way to do so is to calculate the distance(actually the displacment in physics sense) between each data and our line.\n",
    "\n",
    "the we square the error for this following reason\n",
    "- so we can deal with only positive value\n",
    "- large error got big penalize (it get square up!)"
   ]
  },
  {
   "cell_type": "code",
   "execution_count": 10,
   "metadata": {},
   "outputs": [],
   "source": [
    "def squared_error(ys_orig, ys_line):\n",
    "    return sum((ys_line-ys_orig)**2)\n",
    "\n",
    "def coefficient_of_determination(ys_orig, ys_line):\n",
    "    y_mean_line = [mean(ys_orig) for y in ys_orig]\n",
    "    se_y_mean = squared_error(ys_orig, y_mean_line)\n",
    "    se_y_regres = squared_error(ys_orig, ys_line)\n",
    "    return 1 - (se_y_regres / se_y_mean)\n",
    "    "
   ]
  },
  {
   "cell_type": "code",
   "execution_count": 11,
   "metadata": {},
   "outputs": [
    {
     "name": "stdout",
     "output_type": "stream",
     "text": [
      "0.321428571429\n"
     ]
    }
   ],
   "source": [
    "r_squared = coefficient_of_determination(ys_arr,regression_line)\n",
    "print(r_squared)"
   ]
  }
 ],
 "metadata": {
  "kernelspec": {
   "display_name": "Python 3",
   "language": "python",
   "name": "python3"
  },
  "language_info": {
   "codemirror_mode": {
    "name": "ipython",
    "version": 3
   },
   "file_extension": ".py",
   "mimetype": "text/x-python",
   "name": "python",
   "nbconvert_exporter": "python",
   "pygments_lexer": "ipython3",
   "version": "3.5.2"
  },
  "widgets": {
   "state": {},
   "version": "1.1.2"
  }
 },
 "nbformat": 4,
 "nbformat_minor": 2
}

{
 "cells": [
  {
   "cell_type": "markdown",
   "metadata": {},
   "source": [
    " # LSTM Recurrent Neural Networks with Keras"
   ]
  },
  {
   "cell_type": "markdown",
   "metadata": {},
   "source": [
    "In this tutorial we try to predict the amount of passenger in international airline\n",
    "the dataset is in [this link](https://datamarket.com/data/set/22u3/international-airline-passengers-monthly-totals-in-thousands-jan-49-dec-60#!ds=22u3&display=line)"
   ]
  },
  {
   "cell_type": "code",
   "execution_count": 1,
   "metadata": {},
   "outputs": [
    {
     "data": {
      "text/plain": [
       "<matplotlib.figure.Figure at 0x1f94752f320>"
      ]
     },
     "metadata": {},
     "output_type": "display_data"
    }
   ],
   "source": [
    "import pandas\n",
    "import matplotlib.pyplot as plt\n",
    "dataframe = pandas.read_csv('international-airline-passengers.csv', usecols=[1], engine='python', skipfooter=3)\n",
    "plt.plot(dataframe)\n",
    "plt.show()"
   ]
  },
  {
   "cell_type": "markdown",
   "metadata": {},
   "source": [
    "## LSTM Network for Regression\n",
    "\n",
    "We can phrase the problem as a regression problem.\n",
    "\n",
    "That is, given the number of passengers (in units of thousands) this month, what is the number of passengers next month?"
   ]
  },
  {
   "cell_type": "markdown",
   "metadata": {},
   "source": [
    "We can write a simple function to convert our single column of data into a two-column dataset: the first column containing this month’s (t) passenger count and the second column containing next month’s (t+1) passenger count, to be predicted."
   ]
  },
  {
   "cell_type": "code",
   "execution_count": 2,
   "metadata": {},
   "outputs": [
    {
     "name": "stderr",
     "output_type": "stream",
     "text": [
      "Using TensorFlow backend.\n"
     ]
    }
   ],
   "source": [
    "import numpy\n",
    "import matplotlib.pyplot as plt\n",
    "import pandas\n",
    "import math\n",
    "from keras.models import Sequential\n",
    "from keras.layers import Dense\n",
    "from keras.layers import LSTM\n",
    "from sklearn.preprocessing import MinMaxScaler\n",
    "from sklearn.metrics import mean_squared_error"
   ]
  },
  {
   "cell_type": "code",
   "execution_count": 3,
   "metadata": {},
   "outputs": [],
   "source": [
    "# fix random seed for reproducibility\n",
    "numpy.random.seed(7)"
   ]
  },
  {
   "cell_type": "code",
   "execution_count": 4,
   "metadata": {},
   "outputs": [
    {
     "name": "stdout",
     "output_type": "stream",
     "text": [
      "   International airline passengers: monthly totals in thousands. Jan 49 ? Dec 60\n",
      "0                                                112                             \n",
      "1                                                118                             \n",
      "2                                                132                             \n"
     ]
    }
   ],
   "source": [
    "type(dataframe)\n",
    "print(dataframe[0:3])"
   ]
  },
  {
   "cell_type": "markdown",
   "metadata": {},
   "source": [
    "here our data is a pandas's DataFrame.\n",
    "we will change in to be a numpy array with datatype float which is better to be use with neural network."
   ]
  },
  {
   "cell_type": "code",
   "execution_count": 5,
   "metadata": {},
   "outputs": [
    {
     "name": "stdout",
     "output_type": "stream",
     "text": [
      "(144, 1)\n"
     ]
    }
   ],
   "source": [
    "# load the dataset\n",
    "dataframe = pandas.read_csv('international-airline-passengers.csv', usecols=[1], engine='python', skipfooter=3)\n",
    "dataset = dataframe.values\n",
    "dataset = dataset.astype('float32')\n",
    "print(dataset.shape)"
   ]
  },
  {
   "cell_type": "markdown",
   "metadata": {},
   "source": [
    "LSTMs are sensitive to the scale of the input data, specifically when the sigmoid (default) or tanh activation functions are used. It can be a good practice to rescale the data to the range of 0-to-1, also called normalizing."
   ]
  },
  {
   "cell_type": "code",
   "execution_count": 6,
   "metadata": {},
   "outputs": [
    {
     "name": "stdout",
     "output_type": "stream",
     "text": [
      "(144, 1)\n"
     ]
    }
   ],
   "source": [
    "# normalize the dataset\n",
    "scaler = MinMaxScaler(feature_range=(0, 1))\n",
    "dataset = scaler.fit_transform(dataset)\n",
    "print(dataset.shape)"
   ]
  },
  {
   "cell_type": "code",
   "execution_count": 7,
   "metadata": {},
   "outputs": [
    {
     "name": "stdout",
     "output_type": "stream",
     "text": [
      "96 48\n"
     ]
    }
   ],
   "source": [
    "# split into train and test sets\n",
    "train_size = int(len(dataset) * 0.67)\n",
    "test_size = len(dataset) - train_size\n",
    "train, test = dataset[0:train_size,:], dataset[train_size:len(dataset),:]\n",
    "print(len(train), len(test))"
   ]
  },
  {
   "cell_type": "code",
   "execution_count": 8,
   "metadata": {},
   "outputs": [],
   "source": [
    "# convert an array of values into a dataset matrix\n",
    "def create_dataset_matrix(dataset, look_back=1):\n",
    "    dataX, dataY = [], []\n",
    "    for i in range(len(dataset)-look_back-1):\n",
    "        a = dataset[i:(i+look_back), 0]\n",
    "        dataX.append(a)\n",
    "        dataY.append(dataset[i + look_back, 0])\n",
    "    return numpy.array(dataX), numpy.array(dataY)"
   ]
  },
  {
   "cell_type": "code",
   "execution_count": 12,
   "metadata": {},
   "outputs": [],
   "source": [
    "# reshape into X=t and Y=t+1\n",
    "look_back = 2\n",
    "trainX, trainY = create_dataset_matrix(train, look_back)\n",
    "testX, testY = create_dataset_matrix(test, look_back)\n",
    "# print(trainX.shape,trainY.shape)"
   ]
  },
  {
   "cell_type": "markdown",
   "metadata": {},
   "source": [
    "The LSTM network expects the input data (X) to be provided with a specific array structure in the form of: [samples, time steps, features].\n",
    "\n",
    "Currently, our data is in the form: [samples, features] and we are framing the problem as one time step for each sample. We can transform the prepared train and test input data into the expected structure using numpy.reshape() as follows:"
   ]
  },
  {
   "cell_type": "code",
   "execution_count": 13,
   "metadata": {},
   "outputs": [],
   "source": [
    "# reshape input to be [samples, time steps, features]\n",
    "trainX = numpy.reshape(trainX, (trainX.shape[0], 1, trainX.shape[1]))\n",
    "testX = numpy.reshape(testX, (testX.shape[0], 1, testX.shape[1]))"
   ]
  },
  {
   "cell_type": "code",
   "execution_count": 14,
   "metadata": {},
   "outputs": [
    {
     "name": "stdout",
     "output_type": "stream",
     "text": [
      "(93, 1, 2)\n"
     ]
    }
   ],
   "source": [
    "print(trainX.shape)"
   ]
  },
  {
   "cell_type": "markdown",
   "metadata": {},
   "source": [
    "## creating our LSTM model"
   ]
  },
  {
   "cell_type": "code",
   "execution_count": 15,
   "metadata": {},
   "outputs": [
    {
     "name": "stdout",
     "output_type": "stream",
     "text": [
      "Epoch 1/100\n",
      "1s - loss: 0.0227\n",
      "Epoch 2/100\n",
      "0s - loss: 0.0095\n",
      "Epoch 3/100\n",
      "0s - loss: 0.0075\n",
      "Epoch 4/100\n",
      "0s - loss: 0.0066\n",
      "Epoch 5/100\n",
      "0s - loss: 0.0058\n",
      "Epoch 6/100\n",
      "0s - loss: 0.0051\n",
      "Epoch 7/100\n",
      "0s - loss: 0.0046\n",
      "Epoch 8/100\n",
      "0s - loss: 0.0041\n",
      "Epoch 9/100\n",
      "0s - loss: 0.0037\n",
      "Epoch 10/100\n",
      "0s - loss: 0.0033\n",
      "Epoch 11/100\n",
      "0s - loss: 0.0032\n",
      "Epoch 12/100\n",
      "0s - loss: 0.0030\n",
      "Epoch 13/100\n",
      "0s - loss: 0.0029\n",
      "Epoch 14/100\n",
      "0s - loss: 0.0030\n",
      "Epoch 15/100\n",
      "0s - loss: 0.0028\n",
      "Epoch 16/100\n",
      "0s - loss: 0.0028\n",
      "Epoch 17/100\n",
      "0s - loss: 0.0028\n",
      "Epoch 18/100\n",
      "0s - loss: 0.0028\n",
      "Epoch 19/100\n",
      "0s - loss: 0.0028\n",
      "Epoch 20/100\n",
      "0s - loss: 0.0028\n",
      "Epoch 21/100\n",
      "0s - loss: 0.0027\n",
      "Epoch 22/100\n",
      "0s - loss: 0.0027\n",
      "Epoch 23/100\n",
      "0s - loss: 0.0027\n",
      "Epoch 24/100\n",
      "0s - loss: 0.0026\n",
      "Epoch 25/100\n",
      "0s - loss: 0.0027\n",
      "Epoch 26/100\n",
      "0s - loss: 0.0026\n",
      "Epoch 27/100\n",
      "0s - loss: 0.0026\n",
      "Epoch 28/100\n",
      "0s - loss: 0.0027\n",
      "Epoch 29/100\n",
      "0s - loss: 0.0027\n",
      "Epoch 30/100\n",
      "0s - loss: 0.0026\n",
      "Epoch 31/100\n",
      "0s - loss: 0.0026\n",
      "Epoch 32/100\n",
      "0s - loss: 0.0026\n",
      "Epoch 33/100\n",
      "0s - loss: 0.0026\n",
      "Epoch 34/100\n",
      "0s - loss: 0.0026\n",
      "Epoch 35/100\n",
      "0s - loss: 0.0025\n",
      "Epoch 36/100\n",
      "0s - loss: 0.0025\n",
      "Epoch 37/100\n",
      "0s - loss: 0.0025\n",
      "Epoch 38/100\n",
      "0s - loss: 0.0025\n",
      "Epoch 39/100\n",
      "0s - loss: 0.0025\n",
      "Epoch 40/100\n",
      "0s - loss: 0.0025\n",
      "Epoch 41/100\n",
      "0s - loss: 0.0024\n",
      "Epoch 42/100\n",
      "0s - loss: 0.0024\n",
      "Epoch 43/100\n",
      "0s - loss: 0.0024\n",
      "Epoch 44/100\n",
      "0s - loss: 0.0025\n",
      "Epoch 45/100\n",
      "0s - loss: 0.0024\n",
      "Epoch 46/100\n",
      "0s - loss: 0.0024\n",
      "Epoch 47/100\n",
      "0s - loss: 0.0025\n",
      "Epoch 48/100\n",
      "0s - loss: 0.0024\n",
      "Epoch 49/100\n",
      "0s - loss: 0.0023\n",
      "Epoch 50/100\n",
      "0s - loss: 0.0023\n",
      "Epoch 51/100\n",
      "0s - loss: 0.0024\n",
      "Epoch 52/100\n",
      "0s - loss: 0.0023\n",
      "Epoch 53/100\n",
      "0s - loss: 0.0023\n",
      "Epoch 54/100\n",
      "0s - loss: 0.0023\n",
      "Epoch 55/100\n",
      "0s - loss: 0.0023\n",
      "Epoch 56/100\n",
      "0s - loss: 0.0023\n",
      "Epoch 57/100\n",
      "0s - loss: 0.0023\n",
      "Epoch 58/100\n",
      "0s - loss: 0.0022\n",
      "Epoch 59/100\n",
      "0s - loss: 0.0023\n",
      "Epoch 60/100\n",
      "0s - loss: 0.0022\n",
      "Epoch 61/100\n",
      "0s - loss: 0.0022\n",
      "Epoch 62/100\n",
      "0s - loss: 0.0022\n",
      "Epoch 63/100\n",
      "0s - loss: 0.0023\n",
      "Epoch 64/100\n",
      "0s - loss: 0.0023\n",
      "Epoch 65/100\n",
      "0s - loss: 0.0022\n",
      "Epoch 66/100\n",
      "0s - loss: 0.0023\n",
      "Epoch 67/100\n",
      "0s - loss: 0.0023\n",
      "Epoch 68/100\n",
      "0s - loss: 0.0022\n",
      "Epoch 69/100\n",
      "0s - loss: 0.0022\n",
      "Epoch 70/100\n",
      "0s - loss: 0.0022\n",
      "Epoch 71/100\n",
      "0s - loss: 0.0021\n",
      "Epoch 72/100\n",
      "0s - loss: 0.0021\n",
      "Epoch 73/100\n",
      "0s - loss: 0.0021\n",
      "Epoch 74/100\n",
      "0s - loss: 0.0021\n",
      "Epoch 75/100\n",
      "0s - loss: 0.0021\n",
      "Epoch 76/100\n",
      "0s - loss: 0.0021\n",
      "Epoch 77/100\n",
      "0s - loss: 0.0021\n",
      "Epoch 78/100\n",
      "0s - loss: 0.0021\n",
      "Epoch 79/100\n",
      "0s - loss: 0.0021\n",
      "Epoch 80/100\n",
      "0s - loss: 0.0021\n",
      "Epoch 81/100\n",
      "0s - loss: 0.0020\n",
      "Epoch 82/100\n",
      "0s - loss: 0.0020\n",
      "Epoch 83/100\n",
      "0s - loss: 0.0020\n",
      "Epoch 84/100\n",
      "0s - loss: 0.0020\n",
      "Epoch 85/100\n",
      "0s - loss: 0.0021\n",
      "Epoch 86/100\n",
      "0s - loss: 0.0020\n",
      "Epoch 87/100\n",
      "0s - loss: 0.0020\n",
      "Epoch 88/100\n",
      "0s - loss: 0.0020\n",
      "Epoch 89/100\n",
      "0s - loss: 0.0020\n",
      "Epoch 90/100\n",
      "0s - loss: 0.0020\n",
      "Epoch 91/100\n",
      "0s - loss: 0.0020\n",
      "Epoch 92/100\n",
      "0s - loss: 0.0019\n",
      "Epoch 93/100\n",
      "0s - loss: 0.0021\n",
      "Epoch 94/100\n",
      "0s - loss: 0.0020\n",
      "Epoch 95/100\n",
      "0s - loss: 0.0020\n",
      "Epoch 96/100\n",
      "0s - loss: 0.0020\n",
      "Epoch 97/100\n",
      "0s - loss: 0.0020\n",
      "Epoch 98/100\n",
      "0s - loss: 0.0019\n",
      "Epoch 99/100\n",
      "0s - loss: 0.0020\n",
      "Epoch 100/100\n",
      "0s - loss: 0.0020\n"
     ]
    },
    {
     "data": {
      "text/plain": [
       "<keras.callbacks.History at 0x1f94ed8a940>"
      ]
     },
     "execution_count": 15,
     "metadata": {},
     "output_type": "execute_result"
    }
   ],
   "source": [
    "model = Sequential()\n",
    "# 1st hidden layer with 4 lstm and sigmoid as an activation function\n",
    "model.add(LSTM(4,input_shape=(1, look_back)))\n",
    "# connect it to output layer with a sigle value of an output\n",
    "model.add(Dense(1))\n",
    "model.compile(loss='mean_squared_error', optimizer='adam')\n",
    "model.fit(trainX, trainY, nb_epoch=100, batch_size=1, verbose=2)"
   ]
  },
  {
   "cell_type": "markdown",
   "metadata": {},
   "source": [
    "## Model Evaluation\n",
    "\n",
    "We finnish training our model. Congratulation!!!\n",
    "Now we will test the model out with the data we have split earlier.\n",
    "\n",
    "remember that we normalize our data to have the range of -1 to 1.\n",
    "now we would like to invert it back to have the same unit with our data set.\n",
    "So, that it can be compare together and our output is making more sense.\n",
    "\n",
    "in anoter word we convert it back into passeger per month.(0.1 passeger kinda weird right?)"
   ]
  },
  {
   "cell_type": "code",
   "execution_count": 16,
   "metadata": {},
   "outputs": [],
   "source": [
    "# make predictions\n",
    "trainPredict = model.predict(trainX)\n",
    "testPredict = model.predict(testX)\n",
    "# invert predictions\n",
    "trainPredict = scaler.inverse_transform(trainPredict)\n",
    "trainY_inv = scaler.inverse_transform([trainY])\n",
    "testPredict = scaler.inverse_transform(testPredict)\n",
    "testY_inv = scaler.inverse_transform([testY])"
   ]
  },
  {
   "cell_type": "code",
   "execution_count": 17,
   "metadata": {},
   "outputs": [
    {
     "name": "stdout",
     "output_type": "stream",
     "text": [
      "Train Score: 22.49 RMSE\n",
      "Test Score: 50.32 RMSE\n"
     ]
    }
   ],
   "source": [
    "# calculate root mean squared error\n",
    "trainScore = math.sqrt(mean_squared_error(trainY_inv[0], trainPredict[:,0]))\n",
    "print('Train Score: %.2f RMSE' % (trainScore))\n",
    "testScore = math.sqrt(mean_squared_error(testY_inv[0], testPredict[:,0]))\n",
    "print('Test Score: %.2f RMSE' % (testScore))"
   ]
  },
  {
   "cell_type": "markdown",
   "metadata": {},
   "source": [
    "Finally, we can generate predictions using the model for both the train and test dataset to get a visual indication of the skill of the model.\n",
    "\n",
    "Because of how the dataset was prepared, we must shift the predictions so that they align on the x-axis with the original dataset. Once prepared, the data is plotted, showing the original dataset in blue, the predictions for the training dataset in green, and the predictions on the unseen test dataset in red."
   ]
  },
  {
   "cell_type": "code",
   "execution_count": 18,
   "metadata": {},
   "outputs": [
    {
     "data": {
      "image/png": "[encoded data removed]",
      "text/plain": [
       "<matplotlib.figure.Figure at 0x1f94f3c4940>"
      ]
     },
     "metadata": {},
     "output_type": "display_data"
    }
   ],
   "source": [
    "# shift train predictions for plotting\n",
    "trainPredictPlot = numpy.empty_like(dataset)\n",
    "trainPredictPlot[:, :] = numpy.nan\n",
    "trainPredictPlot[look_back:len(trainPredict)+look_back, :] = trainPredict\n",
    "# shift test predictions for plotting\n",
    "testPredictPlot = numpy.empty_like(dataset)\n",
    "testPredictPlot[:, :] = numpy.nan\n",
    "testPredictPlot[len(trainPredict)+(look_back*2)+1:len(dataset)-1, :] = testPredict\n",
    "# plot baseline and predictions\n",
    "plt.plot(scaler.inverse_transform(dataset))\n",
    "plt.plot(trainPredictPlot)\n",
    "plt.plot(testPredictPlot)\n",
    "plt.show()"
   ]
  },
  {
   "cell_type": "code",
   "execution_count": null,
   "metadata": {},
   "outputs": [],
   "source": []
  }
 ],
 "metadata": {
  "kernelspec": {
   "display_name": "Python 3",
   "language": "python",
   "name": "python3"
  },
  "language_info": {
   "codemirror_mode": {
    "name": "ipython",
    "version": 3
   },
   "file_extension": ".py",
   "mimetype": "text/x-python",
   "name": "python",
   "nbconvert_exporter": "python",
   "pygments_lexer": "ipython3",
   "version": "3.5.2"
  },
  "widgets": {
   "state": {},
   "version": "1.1.2"
  }
 },
 "nbformat": 4,
 "nbformat_minor": 2
}
